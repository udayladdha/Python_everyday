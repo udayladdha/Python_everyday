{
 "cells": [
  {
   "cell_type": "markdown",
   "id": "b1bb4a88",
   "metadata": {},
   "source": [
    "# Python program to interchange first and last elements in a list"
   ]
  },
  {
   "cell_type": "code",
   "execution_count": 1,
   "id": "91d4f088",
   "metadata": {},
   "outputs": [
    {
     "data": {
      "text/plain": [
       "[24, 35, 9, 56, 12]"
      ]
     },
     "execution_count": 1,
     "metadata": {},
     "output_type": "execute_result"
    }
   ],
   "source": [
    "def swap_list(my_list):\n",
    "    my_list[0],my_list[-1]=my_list[-1],my_list[0]\n",
    "    return my_list\n",
    "x=[12, 35, 9, 56, 24]\n",
    "swap_list(x)\n"
   ]
  },
  {
   "cell_type": "code",
   "execution_count": 2,
   "id": "a52bf498",
   "metadata": {},
   "outputs": [
    {
     "data": {
      "text/plain": [
       "[67, 45, 67, 78, 34, 23]"
      ]
     },
     "execution_count": 2,
     "metadata": {},
     "output_type": "execute_result"
    }
   ],
   "source": [
    "def swap(lst):\n",
    "    first_element=lst[0]\n",
    "    lst[0]=lst[-1]\n",
    "    lst[-1]=first_element\n",
    "    return lst\n",
    "y=[23,45,67,78,34,67]\n",
    "swap(y)"
   ]
  },
  {
   "cell_type": "markdown",
   "id": "9e637b7b",
   "metadata": {},
   "source": [
    "# Python Program to Swap Two Elements in a List"
   ]
  },
  {
   "cell_type": "code",
   "execution_count": 3,
   "id": "0439a0d2",
   "metadata": {},
   "outputs": [
    {
     "data": {
      "text/plain": [
       "[67, 34, 67, 78, 45, 23]"
      ]
     },
     "execution_count": 3,
     "metadata": {},
     "output_type": "execute_result"
    }
   ],
   "source": [
    "# using tuple variable\n",
    "def swap_element(lst1,pos1,pos2):\n",
    "    get=lst1[pos1],lst1[pos2]\n",
    "    lst1[pos2],lst1[pos1]=get# tuple elements can be assigned to the variables using slicing as shown below\n",
    "    return lst1\n",
    "swap_element([67, 45, 67, 78, 34, 23],1,-2)"
   ]
  },
  {
   "cell_type": "code",
   "execution_count": 4,
   "id": "a2721ebe",
   "metadata": {},
   "outputs": [
    {
     "data": {
      "text/plain": [
       "2"
      ]
     },
     "execution_count": 4,
     "metadata": {},
     "output_type": "execute_result"
    }
   ],
   "source": [
    "my_tuple=(1,2)\n",
    "pos1=my_tuple[1]# tuple elements can be assigned to the variables using slicing as shown \n",
    "pos1"
   ]
  },
  {
   "cell_type": "markdown",
   "id": "e1793c6c",
   "metadata": {},
   "source": [
    "# Swap elements in String list"
   ]
  },
  {
   "cell_type": "code",
   "execution_count": 5,
   "id": "65f2203a",
   "metadata": {},
   "outputs": [
    {
     "data": {
      "text/plain": [
       "[2, 'for', 'Gfg', 'is', 'best', 1, 'Geeks']"
      ]
     },
     "execution_count": 5,
     "metadata": {},
     "output_type": "execute_result"
    }
   ],
   "source": [
    "# using tuple variable\n",
    "def swap_element(lst1,pos1,pos2):\n",
    "    get=lst1[pos1],lst1[pos2]\n",
    "    lst1[pos2],lst1[pos1]=get# tuple elements can be assigned to the variables using slicing as shown below\n",
    "    return lst1\n",
    "swap_element([2,1,'Gfg', 'is', 'best', 'for', 'Geeks'],1,-2)"
   ]
  },
  {
   "cell_type": "markdown",
   "id": "98efadbf",
   "metadata": {},
   "source": [
    "# Reversing a List in Python"
   ]
  },
  {
   "cell_type": "code",
   "execution_count": 6,
   "id": "b6c3fcb8",
   "metadata": {},
   "outputs": [
    {
     "name": "stdout",
     "output_type": "stream",
     "text": [
      "[67, 45, 23, 645, 43, 21]\n"
     ]
    }
   ],
   "source": [
    "# basic logic behind reversing a list\n",
    "x=[21,43,645,23,45,67]\n",
    "start,end=0,len(x)-1\n",
    "while start<end:\n",
    "    x[start],x[end]=x[end],x[start]\n",
    "    start=start+1\n",
    "    end=end-1\n",
    "print(x)"
   ]
  },
  {
   "cell_type": "markdown",
   "id": "7177ddba",
   "metadata": {},
   "source": [
    "# Count occurrences of an element in a list"
   ]
  },
  {
   "cell_type": "code",
   "execution_count": 7,
   "id": "7a84a7b8",
   "metadata": {},
   "outputs": [
    {
     "data": {
      "text/plain": [
       "9"
      ]
     },
     "execution_count": 7,
     "metadata": {},
     "output_type": "execute_result"
    }
   ],
   "source": [
    "def count_occurnces(lst,x):\n",
    "    count=0\n",
    "    for i in lst:\n",
    "        if i==x:\n",
    "            count+=1\n",
    "    return count\n",
    "count_occurnces([15, 6, 7, 10, 12, 20, 10, 28, 10,3,4,5,10,10,10,10,10,10],10)"
   ]
  },
  {
   "cell_type": "code",
   "execution_count": null,
   "id": "1f229f7c",
   "metadata": {},
   "outputs": [],
   "source": []
  }
 ],
 "metadata": {
  "kernelspec": {
   "display_name": "Python 3 (ipykernel)",
   "language": "python",
   "name": "python3"
  },
  "language_info": {
   "codemirror_mode": {
    "name": "ipython",
    "version": 3
   },
   "file_extension": ".py",
   "mimetype": "text/x-python",
   "name": "python",
   "nbconvert_exporter": "python",
   "pygments_lexer": "ipython3",
   "version": "3.10.9"
  }
 },
 "nbformat": 4,
 "nbformat_minor": 5
}
