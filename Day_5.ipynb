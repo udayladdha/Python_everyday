{
 "cells": [
  {
   "cell_type": "markdown",
   "id": "93dab33b",
   "metadata": {},
   "source": [
    "# Python program to find the sum of all items in a dictionary"
   ]
  },
  {
   "cell_type": "code",
   "execution_count": 1,
   "id": "7e2653c1",
   "metadata": {},
   "outputs": [
    {
     "name": "stdout",
     "output_type": "stream",
     "text": [
      "600\n"
     ]
    }
   ],
   "source": [
    "my_dict = {'a': 100, 'b': 200, 'c': 300}\n",
    "l=[]\n",
    "for i in my_dict:\n",
    "    l.append(my_dict[i])\n",
    "print(sum(l))\n"
   ]
  },
  {
   "cell_type": "code",
   "execution_count": 2,
   "id": "0fe29550",
   "metadata": {},
   "outputs": [
    {
     "name": "stdout",
     "output_type": "stream",
     "text": [
      "600\n"
     ]
    }
   ],
   "source": [
    "my_dict = {'a': 100, 'b': 200, 'c': 300}\n",
    "l=[]\n",
    "for i in my_dict.values():\n",
    "    l.append(i)\n",
    "print(sum(l))"
   ]
  },
  {
   "cell_type": "markdown",
   "id": "707b2ef9",
   "metadata": {},
   "source": [
    "# Finding the Size of the Dictionary in Bytes"
   ]
  },
  {
   "cell_type": "code",
   "execution_count": 3,
   "id": "5174bbd3",
   "metadata": {},
   "outputs": [
    {
     "name": "stdout",
     "output_type": "stream",
     "text": [
      "size of my_dict in bytes is 232 bytes\n"
     ]
    }
   ],
   "source": [
    "import sys\n",
    "my_dict = {'a': 100, 'b': 200, 'c': 300}\n",
    "print(\"size of my_dict in bytes is\",sys.getsizeof(my_dict),\"bytes\")"
   ]
  },
  {
   "cell_type": "markdown",
   "id": "7e3f6a3b",
   "metadata": {},
   "source": [
    "# Ways to sort list of dictionaries by values in Python – Using itemgetter"
   ]
  },
  {
   "cell_type": "code",
   "execution_count": 4,
   "id": "9943509d",
   "metadata": {},
   "outputs": [
    {
     "data": {
      "text/plain": [
       "{'d': 100, 'b': 200, 'c': 300, 'a': 400}"
      ]
     },
     "execution_count": 4,
     "metadata": {},
     "output_type": "execute_result"
    }
   ],
   "source": [
    "from operator import itemgetter\n",
    "my_dict = {'a': 400, 'b': 200, 'c': 300,\"d\":100}\n",
    "# this will give result in list of dict so we change this in dict again\n",
    "sorted(my_dict.items(),key=itemgetter(1)) \n",
    "dict(sorted(my_dict.items(),key=itemgetter(1)))"
   ]
  },
  {
   "cell_type": "markdown",
   "id": "b5c41856",
   "metadata": {},
   "source": [
    "# Ways to sort list of dictionaries by values in Python – Using lambda function"
   ]
  },
  {
   "cell_type": "code",
   "execution_count": 5,
   "id": "51744045",
   "metadata": {},
   "outputs": [
    {
     "data": {
      "text/plain": [
       "{'d': 100, 'b': 200, 'c': 300, 'a': 400}"
      ]
     },
     "execution_count": 5,
     "metadata": {},
     "output_type": "execute_result"
    }
   ],
   "source": [
    "my_dict = {'a': 400, 'b': 200, 'c': 300,\"d\":100}\n",
    "dict(sorted(my_dict.items(),key=lambda x :x[1]))"
   ]
  },
  {
   "cell_type": "markdown",
   "id": "5f10a1fb",
   "metadata": {},
   "source": [
    "# Merging two Dictionaries"
   ]
  },
  {
   "cell_type": "code",
   "execution_count": 6,
   "id": "0d119dbc",
   "metadata": {},
   "outputs": [
    {
     "data": {
      "text/plain": [
       "{'a': 10, 'b': 8, 'd': 6, 'c': 4}"
      ]
     },
     "execution_count": 6,
     "metadata": {},
     "output_type": "execute_result"
    }
   ],
   "source": [
    "dict1 = {'a': 10, 'b': 8}\n",
    "dict2 = {'d': 6, 'c': 4}\n",
    "dict1.update(dict2)\n",
    "dict1"
   ]
  },
  {
   "cell_type": "code",
   "execution_count": 7,
   "id": "5f6d2eb7",
   "metadata": {},
   "outputs": [
    {
     "data": {
      "text/plain": [
       "{'a': 10, 'b': 8, 'd': 6, 'c': 4}"
      ]
     },
     "execution_count": 7,
     "metadata": {},
     "output_type": "execute_result"
    }
   ],
   "source": [
    "def merge(dict1,dict2):\n",
    "    merged= {**dict1,**dict2}\n",
    "    return merged\n",
    "x = {'a': 10, 'b': 8}\n",
    "y = {'d': 6, 'c': 4}\n",
    "merge(x,y)"
   ]
  },
  {
   "cell_type": "code",
   "execution_count": 8,
   "id": "5a14b913",
   "metadata": {},
   "outputs": [
    {
     "data": {
      "text/plain": [
       "{'a': 10, 'b': 8, 'd': 6, 'c': 4}"
      ]
     },
     "execution_count": 8,
     "metadata": {},
     "output_type": "execute_result"
    }
   ],
   "source": [
    "x|y # this operator is used to merge two Dictionary "
   ]
  }
 ],
 "metadata": {
  "kernelspec": {
   "display_name": "Python 3 (ipykernel)",
   "language": "python",
   "name": "python3"
  },
  "language_info": {
   "codemirror_mode": {
    "name": "ipython",
    "version": 3
   },
   "file_extension": ".py",
   "mimetype": "text/x-python",
   "name": "python",
   "nbconvert_exporter": "python",
   "pygments_lexer": "ipython3",
   "version": "3.10.9"
  }
 },
 "nbformat": 4,
 "nbformat_minor": 5
}
