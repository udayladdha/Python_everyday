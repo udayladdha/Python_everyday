{
 "cells": [
  {
   "cell_type": "markdown",
   "id": "6f76f1dc",
   "metadata": {},
   "source": [
    "# Sort Python Dictionaries by Key or Value"
   ]
  },
  {
   "cell_type": "code",
   "execution_count": 1,
   "id": "f166c0b8",
   "metadata": {},
   "outputs": [
    {
     "data": {
      "text/plain": [
       "{'rajnish': 9, 'ravi': 10, 'sanjeev': 15, 'suraj': 32, 'yash': 2}"
      ]
     },
     "execution_count": 1,
     "metadata": {},
     "output_type": "execute_result"
    }
   ],
   "source": [
    "# sorted on the basisi of keys \n",
    "myDict = {'ravi': 10, 'rajnish': 9,\n",
    "        'sanjeev': 15, 'yash': 2, 'suraj': 32}\n",
    "dict(sorted(myDict.items()))\n",
    "#.items() return in the form of list of tuples so we changed to dict"
   ]
  },
  {
   "cell_type": "code",
   "execution_count": 2,
   "id": "4ddaf0fc",
   "metadata": {},
   "outputs": [
    {
     "data": {
      "text/plain": [
       "{'yash': 2, 'rajnish': 9, 'ravi': 10, 'sanjeev': 15, 'suraj': 32}"
      ]
     },
     "execution_count": 2,
     "metadata": {},
     "output_type": "execute_result"
    }
   ],
   "source": [
    "# sorted on the basisi of values \n",
    "myDict = {'ravi': 10, 'rajnish': 9,\n",
    "        'sanjeev': 15, 'yash': 2, 'suraj': 32}\n",
    "dict(sorted(myDict.items(),key=lambda x:x[1]))\n",
    "# lambda is anonymous function , here it will return value with index 1\n",
    "# we applied this lambda function to key which mean key will sort on the basis of values"
   ]
  },
  {
   "cell_type": "code",
   "execution_count": 3,
   "id": "55b013ff",
   "metadata": {},
   "outputs": [
    {
     "data": {
      "text/plain": [
       "{'yash': 2, 'rajnish': 9, 'ravi': 10, 'sanjeev': 15, 'suraj': 32}"
      ]
     },
     "execution_count": 3,
     "metadata": {},
     "output_type": "execute_result"
    }
   ],
   "source": [
    "# sorted on the basis of values  using itemgetter\n",
    "myDict = {'ravi': 10, 'rajnish': 9,\n",
    "        'sanjeev': 15, 'yash': 2, 'suraj': 32}\n",
    "from operator import itemgetter\n",
    "dict(sorted(myDict.items(),key=itemgetter(1)))"
   ]
  },
  {
   "cell_type": "code",
   "execution_count": 4,
   "id": "05e66fc0",
   "metadata": {},
   "outputs": [
    {
     "name": "stdout",
     "output_type": "stream",
     "text": [
      "[11, 22, 12, 25, 34, 64, 90]\n"
     ]
    }
   ],
   "source": [
    "# sorting withoud any method \n",
    "arr=[64, 34, 25, 12, 22, 11, 90]\n",
    "n = len(arr)\n",
    "for i in range(n - 1):\n",
    "    min_index = i\n",
    "    for j in range(i + 1, n):\n",
    "        if arr[j] < arr[min_index]:\n",
    "            min_index = j\n",
    "            arr[i], arr[min_index] = arr[min_index], arr[i]\n",
    "print(arr)\n"
   ]
  },
  {
   "cell_type": "code",
   "execution_count": null,
   "id": "95cbefa5",
   "metadata": {},
   "outputs": [],
   "source": []
  }
 ],
 "metadata": {
  "kernelspec": {
   "display_name": "Python 3 (ipykernel)",
   "language": "python",
   "name": "python3"
  },
  "language_info": {
   "codemirror_mode": {
    "name": "ipython",
    "version": 3
   },
   "file_extension": ".py",
   "mimetype": "text/x-python",
   "name": "python",
   "nbconvert_exporter": "python",
   "pygments_lexer": "ipython3",
   "version": "3.10.9"
  }
 },
 "nbformat": 4,
 "nbformat_minor": 5
}
