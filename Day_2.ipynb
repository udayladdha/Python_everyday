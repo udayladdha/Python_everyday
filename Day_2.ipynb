{
 "cells": [
  {
   "cell_type": "markdown",
   "id": "5f9aa0bb",
   "metadata": {},
   "source": [
    "# Find sum and average of List in Python"
   ]
  },
  {
   "cell_type": "code",
   "execution_count": 1,
   "id": "5d4fa1f5",
   "metadata": {},
   "outputs": [
    {
     "data": {
      "text/plain": [
       "(46, 5.75)"
      ]
     },
     "execution_count": 1,
     "metadata": {},
     "output_type": "execute_result"
    }
   ],
   "source": [
    "def sum_of_elements(my_lst):\n",
    "    total=0\n",
    "    for i in my_lst:\n",
    "        total=total+i\n",
    "    avg=total/len(my_lst)\n",
    "    return total,avg\n",
    "x=[4, 5, 1, 2, 9, 7, 10, 8]\n",
    "sum_of_elements(x)"
   ]
  },
  {
   "cell_type": "code",
   "execution_count": 2,
   "id": "df300574",
   "metadata": {},
   "outputs": [
    {
     "data": {
      "text/plain": [
       "46"
      ]
     },
     "execution_count": 2,
     "metadata": {},
     "output_type": "execute_result"
    }
   ],
   "source": [
    "import math\n",
    "x=[4, 5, 1, 2, 9, 7, 10, 8]\n",
    "sum(x)"
   ]
  },
  {
   "cell_type": "markdown",
   "id": "cf22c542",
   "metadata": {},
   "source": [
    "# Sum of number digits in List"
   ]
  },
  {
   "cell_type": "code",
   "execution_count": 3,
   "id": "00bf7d96",
   "metadata": {},
   "outputs": [],
   "source": [
    "# input [12, 67, 98, 34], output[3,13,17,7]"
   ]
  },
  {
   "cell_type": "code",
   "execution_count": 4,
   "id": "0693b972",
   "metadata": {},
   "outputs": [
    {
     "data": {
      "text/plain": [
       "[3, 13, 17, 7]"
      ]
     },
     "execution_count": 4,
     "metadata": {},
     "output_type": "execute_result"
    }
   ],
   "source": [
    "def sum_of_digit(my_lst):\n",
    "    lst=[]\n",
    "    for i in my_lst:\n",
    "        sum1=0\n",
    "        for j in str(i): # converting int to string for looping on each digit in a single number \n",
    "            sum1=sum1+int(j) # converting str back to int  \n",
    "        lst.append(sum1)\n",
    "    return lst\n",
    "sum_of_digit([12, 67, 98, 34])       "
   ]
  },
  {
   "cell_type": "code",
   "execution_count": 5,
   "id": "9c041145",
   "metadata": {},
   "outputs": [
    {
     "name": "stdout",
     "output_type": "stream",
     "text": [
      "1\n",
      "2\n"
     ]
    }
   ],
   "source": [
    "a=str(12)\n",
    "for i in a:\n",
    "    print(i) # type of i is still str that is why we converted it back to int as shown above"
   ]
  },
  {
   "cell_type": "markdown",
   "id": "8f003c33",
   "metadata": {},
   "source": [
    "# Python program to find smallest number in a list"
   ]
  },
  {
   "cell_type": "code",
   "execution_count": 6,
   "id": "8493c9e5",
   "metadata": {},
   "outputs": [
    {
     "data": {
      "text/plain": [
       "12"
      ]
     },
     "execution_count": 6,
     "metadata": {},
     "output_type": "execute_result"
    }
   ],
   "source": [
    "a=[12, 67, 34, 34,98,29,42]\n",
    "a.sort()\n",
    "a[0] # smallest number "
   ]
  },
  {
   "cell_type": "code",
   "execution_count": 7,
   "id": "7d84d4d7",
   "metadata": {},
   "outputs": [
    {
     "data": {
      "text/plain": [
       "12"
      ]
     },
     "execution_count": 7,
     "metadata": {},
     "output_type": "execute_result"
    }
   ],
   "source": [
    "def minimum(a):\n",
    "    return min(a)\n",
    "a=[12, 67, 34, 34,98,29,42]\n",
    "minimum(a)\n"
   ]
  },
  {
   "cell_type": "markdown",
   "id": "7370dfa3",
   "metadata": {},
   "source": [
    "# Remove empty tuples from a list"
   ]
  },
  {
   "cell_type": "code",
   "execution_count": 8,
   "id": "270ae91b",
   "metadata": {},
   "outputs": [
    {
     "name": "stdout",
     "output_type": "stream",
     "text": [
      "[('ram', '15', '8'), ('laxman', 'sita'), ('krishna', 'akbar', '45'), ('', '')]\n"
     ]
    }
   ],
   "source": [
    "tuples = [(), ('ram','15','8'), (), ('laxman', 'sita'), \n",
    "          ('krishna', 'akbar', '45'), ('',''),()]\n",
    "a=[]\n",
    "for i in tuples:\n",
    "    if i:\n",
    "        a.append(i)\n",
    "print(a)"
   ]
  },
  {
   "cell_type": "code",
   "execution_count": 9,
   "id": "8853e13f",
   "metadata": {},
   "outputs": [
    {
     "data": {
      "text/plain": [
       "[('ram', '15', '8'), ('laxman', 'sita'), ('krishna', 'akbar', '45'), ('', '')]"
      ]
     },
     "execution_count": 9,
     "metadata": {},
     "output_type": "execute_result"
    }
   ],
   "source": [
    "tuples = [(), ('ram','15','8'), (), ('laxman', 'sita'), \n",
    "          ('krishna', 'akbar', '45'), ('',''),()]\n",
    "list(filter(None,tuples))\n"
   ]
  },
  {
   "cell_type": "code",
   "execution_count": null,
   "id": "57fc7ffa",
   "metadata": {},
   "outputs": [],
   "source": []
  }
 ],
 "metadata": {
  "kernelspec": {
   "display_name": "Python 3 (ipykernel)",
   "language": "python",
   "name": "python3"
  },
  "language_info": {
   "codemirror_mode": {
    "name": "ipython",
    "version": 3
   },
   "file_extension": ".py",
   "mimetype": "text/x-python",
   "name": "python",
   "nbconvert_exporter": "python",
   "pygments_lexer": "ipython3",
   "version": "3.10.9"
  }
 },
 "nbformat": 4,
 "nbformat_minor": 5
}
