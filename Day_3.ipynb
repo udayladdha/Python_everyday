{
 "cells": [
  {
   "cell_type": "markdown",
   "id": "4319674f",
   "metadata": {},
   "source": [
    "# Remove empty List from List"
   ]
  },
  {
   "cell_type": "code",
   "execution_count": 1,
   "id": "594657f3",
   "metadata": {},
   "outputs": [
    {
     "data": {
      "text/plain": [
       "[5, 6, 3, 9]"
      ]
     },
     "execution_count": 1,
     "metadata": {},
     "output_type": "execute_result"
    }
   ],
   "source": [
    "test_list = [5, 6, [], 3, [], [], 9]\n",
    "x=[i for i in test_list if i!=[]]\n",
    "x"
   ]
  },
  {
   "cell_type": "code",
   "execution_count": 2,
   "id": "d8e96c9f",
   "metadata": {},
   "outputs": [
    {
     "name": "stdout",
     "output_type": "stream",
     "text": [
      "[5, 6, 3, 9]\n"
     ]
    }
   ],
   "source": [
    "test_list = [5, 6, [], 3, [], [], 9]\n",
    "lst=[]\n",
    "for i in test_list:\n",
    "    if i:\n",
    "        lst.append(i)\n",
    "print(lst)"
   ]
  },
  {
   "cell_type": "code",
   "execution_count": 3,
   "id": "503c4bea",
   "metadata": {},
   "outputs": [
    {
     "data": {
      "text/plain": [
       "[5, 6, 3, 9]"
      ]
     },
     "execution_count": 3,
     "metadata": {},
     "output_type": "execute_result"
    }
   ],
   "source": [
    "test_list = [5, 6, [], 3, [], [], 9]\n",
    "x=list(filter(None,test_list))\n",
    "x"
   ]
  },
  {
   "cell_type": "markdown",
   "id": "befe61e8",
   "metadata": {},
   "source": [
    "# Convert List to List of dictionaries"
   ]
  },
  {
   "cell_type": "code",
   "execution_count": 4,
   "id": "0e6e8d31",
   "metadata": {},
   "outputs": [
    {
     "data": {
      "text/plain": [
       "[{'Gfg': 3, 'is': 8, 'Best': 10, 'for': 18, 'Geeks': 33}]"
      ]
     },
     "execution_count": 4,
     "metadata": {},
     "output_type": "execute_result"
    }
   ],
   "source": [
    "test_list = [\"Gfg\", 3, \"is\", 8, \"Best\", 10, \"for\", 18, \"Geeks\", 33]\n",
    "x=[{test_list[i]:test_list[i+1] for i in range(0,len(test_list),2)}]\n",
    "x"
   ]
  },
  {
   "cell_type": "code",
   "execution_count": 5,
   "id": "e60ff831",
   "metadata": {},
   "outputs": [
    {
     "name": "stdout",
     "output_type": "stream",
     "text": [
      "[{'Gfg': 3}, {'is': 8}, {'Best': 10}, {'for': 18}, {'Geeks': 33}]\n"
     ]
    }
   ],
   "source": [
    "test_list = [\"Gfg\", 3, \"is\", 8, \"Best\", 10, \"for\", 18, \"Geeks\", 33]\n",
    "lst=[]\n",
    "for i in range(0,len(test_list),2):\n",
    "    x={test_list[i]:test_list[i+1]}\n",
    "    lst.append(x)\n",
    "print(lst)"
   ]
  },
  {
   "cell_type": "code",
   "execution_count": null,
   "id": "0977ca85",
   "metadata": {},
   "outputs": [],
   "source": []
  }
 ],
 "metadata": {
  "kernelspec": {
   "display_name": "Python 3 (ipykernel)",
   "language": "python",
   "name": "python3"
  },
  "language_info": {
   "codemirror_mode": {
    "name": "ipython",
    "version": 3
   },
   "file_extension": ".py",
   "mimetype": "text/x-python",
   "name": "python",
   "nbconvert_exporter": "python",
   "pygments_lexer": "ipython3",
   "version": "3.10.9"
  }
 },
 "nbformat": 4,
 "nbformat_minor": 5
}
